{
 "cells": [
  {
   "cell_type": "markdown",
   "id": "342f85f9-c4ee-437f-9c59-0a2d0491d59f",
   "metadata": {},
   "source": [
    "# __FINAL PROJECT PHASE II__"
   ]
  },
  {
   "cell_type": "markdown",
   "id": "f7eba481-3d01-43b4-b794-fd80226756ed",
   "metadata": {},
   "source": [
    "# __RESEARCH QUESTION:__\n",
    "Can we predict presence and rank of of the song on Spotify charts of different artists based on factors like danceability, valence, and energy?"
   ]
  },
  {
   "cell_type": "markdown",
   "id": "bf7c2bb5-2250-4b8a-805e-b503b79e13bd",
   "metadata": {},
   "source": [
    "### Importing:"
   ]
  },
  {
   "cell_type": "code",
   "execution_count": 1,
   "id": "09ef9186-5371-4f93-b16f-d00cbbdb06d3",
   "metadata": {},
   "outputs": [],
   "source": [
    "# imports and settings\n",
    "import matplotlib.pyplot as plt\n",
    "import numpy as np\n",
    "import pandas as pd\n",
    "import seaborn as sns\n"
   ]
  },
  {
   "cell_type": "markdown",
   "id": "480a00f5-100c-4c13-91b0-7c127c9165fc",
   "metadata": {},
   "source": [
    "## Data Description:\n",
    "Source: https://www.kaggle.com/datasets/nelgiriyewithana/top-spotify-songs-2023/data \n",
    "\n",
    "We are using a dataset that contains detailed information on the most famous songs of 2023, specifically focusing on their performance on major music platforms like Spotify, Apple Music, Deezer, and Shazam. It includes key metadata such as the song's name, artist(s), and release date, along with streaming data, playlist presence, and chart rankings across platforms. Additionally, the dataset offers a range of audio features, including tempo (BPM), key, mode (major/minor), and percentages indicating danceability, energy, acousticness, and other sonic characteristics, providing a comprehensive view of each track's musical and commercial success.\n",
    "\n"
   ]
  },
  {
   "cell_type": "code",
   "execution_count": 4,
   "id": "8f718d34-933f-41dc-8c88-99a7af48a262",
   "metadata": {},
   "outputs": [
    {
     "name": "stdout",
     "output_type": "stream",
     "text": [
      "(953, 24)\n"
     ]
    }
   ],
   "source": [
    "music_df = pd.read_csv('spotify-2023.csv', encoding='ISO-8859-1')\n",
    "print(music_df.shape)"
   ]
  }
 ],
 "metadata": {
  "kernelspec": {
   "display_name": "Python 3 (ipykernel)",
   "language": "python",
   "name": "python3"
  },
  "language_info": {
   "codemirror_mode": {
    "name": "ipython",
    "version": 3
   },
   "file_extension": ".py",
   "mimetype": "text/x-python",
   "name": "python",
   "nbconvert_exporter": "python",
   "pygments_lexer": "ipython3",
   "version": "3.12.2"
  }
 },
 "nbformat": 4,
 "nbformat_minor": 5
}
