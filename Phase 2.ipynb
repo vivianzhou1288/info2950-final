{
 "cells": [
  {
   "cell_type": "markdown",
   "id": "342f85f9-c4ee-437f-9c59-0a2d0491d59f",
   "metadata": {},
   "source": [
    "# __FINAL PROJECT PHASE II__"
   ]
  },
  {
   "cell_type": "markdown",
   "id": "f7eba481-3d01-43b4-b794-fd80226756ed",
   "metadata": {},
   "source": [
    "# __RESEARCH QUESTION:__"
   ]
  },
  {
   "cell_type": "code",
   "execution_count": null,
   "id": "09ef9186-5371-4f93-b16f-d00cbbdb06d3",
   "metadata": {},
   "outputs": [],
   "source": []
  }
 ],
 "metadata": {
  "kernelspec": {
   "display_name": "Python 3 (ipykernel)",
   "language": "python",
   "name": "python3"
  },
  "language_info": {
   "codemirror_mode": {
    "name": "ipython",
    "version": 3
   },
   "file_extension": ".py",
   "mimetype": "text/x-python",
   "name": "python",
   "nbconvert_exporter": "python",
   "pygments_lexer": "ipython3",
   "version": "3.12.2"
  }
 },
 "nbformat": 4,
 "nbformat_minor": 5
}
