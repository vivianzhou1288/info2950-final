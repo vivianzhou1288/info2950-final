{
 "cells": [
  {
   "cell_type": "markdown",
   "id": "e4b698c1-fd1d-4003-b4d6-2bee432ba11c",
   "metadata": {},
   "source": [
    "<h1>Research Question</h1>\n",
    "Can we reliably predict a county's electric vehicle (EV) registrations based of of vehicles' model year, manufacturer brand, electric range, and other factors in Washington State?"
   ]
  },
  {
   "cell_type": "code",
   "execution_count": 1,
   "id": "e5bb4a65-d1d0-444b-b80d-1e4d343f6626",
   "metadata": {},
   "outputs": [],
   "source": [
    "import matplotlib.pyplot as plt\n",
    "import numpy as np\n",
    "import pandas as pd\n",
    "import seaborn as sns\n",
    "import duckdb\n",
    "\n",
    "from sklearn.linear_model import LinearRegression\n",
    "from sklearn.model_selection import train_test_split\n",
    "from sklearn.metrics import mean_squared_error, r2_score\n",
    "from sklearn import preprocessing\n",
    "\n",
    "import statsmodels.api as sm  # Optional for detailed statistical analysis\n"
   ]
  },
  {
   "cell_type": "markdown",
   "id": "5100e412-362a-4747-bcf6-1d68e75b4600",
   "metadata": {},
   "source": [
    "## Data Description\n",
    "We are using a dataset that shows the Battery Electric Vehicles (BEVs) and Plug-in Hybrid Electric Vehicles (PHEVs) that are currently registered through Washington State Department of Licensing (DOL). It provides key information about vehicle registrations, tax exemptions, and eligibility criteria for clean alternative fuel vehicles, and is updated regularly, with the monthly vehicle count subject to changes due to county assignment processes during registration. A Battery Electric Vehicle (BEV) is an all-electric vehicle using one or more batteries to store the electrical energy that powers the motor and is charged by plugging the vehicle in to an electric power source. A Plug-in Hybrid Electric Vehicle (PHEV) is a vehicle that uses one or more batteries to power an electric motor; uses another fuel, such as gasoline or diesel, to power an internal combustion engine or other propulsion source; and is charged by plugging the vehicle in to an electric power source.\n",
    "\n",
    "The dataset consists of several columns representing various attributes related to each electric vehicle, including: VIN: Vehicle Identification Number; County: The county where the vehicle is registered; City: The city where the vehicle is registered; State: The state (WA for Washington); Postal Code: The postal code of the registration; Model Year: The year the vehicle model was manufactured; Make: The manufacturer brand of the vehicle; Model: The model of the vehicle. Each row in the dataset describes a specific electric vehicle that is registered in Washington State."
   ]
  },
  {
   "cell_type": "markdown",
   "id": "5fabbcb3-d49d-4afc-8500-501cdaf47b8b",
   "metadata": {},
   "source": [
    "## Data Cleaning"
   ]
  },
  {
   "cell_type": "code",
   "execution_count": 2,
   "id": "6d27ed7a-c3a3-4a76-a9b9-bfbaf314c15f",
   "metadata": {},
   "outputs": [
    {
     "name": "stdout",
     "output_type": "stream",
     "text": [
      "(77114, 17)\n"
     ]
    },
    {
     "data": {
      "text/html": [
       "<div>\n",
       "<style scoped>\n",
       "    .dataframe tbody tr th:only-of-type {\n",
       "        vertical-align: middle;\n",
       "    }\n",
       "\n",
       "    .dataframe tbody tr th {\n",
       "        vertical-align: top;\n",
       "    }\n",
       "\n",
       "    .dataframe thead th {\n",
       "        text-align: right;\n",
       "    }\n",
       "</style>\n",
       "<table border=\"1\" class=\"dataframe\">\n",
       "  <thead>\n",
       "    <tr style=\"text-align: right;\">\n",
       "      <th></th>\n",
       "      <th>VIN (1-10)</th>\n",
       "      <th>County</th>\n",
       "      <th>City</th>\n",
       "      <th>State</th>\n",
       "      <th>Postal Code</th>\n",
       "      <th>Model Year</th>\n",
       "      <th>Make</th>\n",
       "      <th>Model</th>\n",
       "      <th>Electric Vehicle Type</th>\n",
       "      <th>Clean Alternative Fuel Vehicle (CAFV) Eligibility</th>\n",
       "      <th>Electric Range</th>\n",
       "      <th>Base MSRP</th>\n",
       "      <th>Legislative District</th>\n",
       "      <th>DOL Vehicle ID</th>\n",
       "      <th>Electric Utility</th>\n",
       "      <th>income_2023</th>\n",
       "      <th>population_2023</th>\n",
       "    </tr>\n",
       "  </thead>\n",
       "  <tbody>\n",
       "    <tr>\n",
       "      <th>0</th>\n",
       "      <td>5YJYGDEE1L</td>\n",
       "      <td>King</td>\n",
       "      <td>Seattle</td>\n",
       "      <td>WA</td>\n",
       "      <td>98122.0</td>\n",
       "      <td>2020</td>\n",
       "      <td>TESLA</td>\n",
       "      <td>MODEL Y</td>\n",
       "      <td>Battery Electric Vehicle (BEV)</td>\n",
       "      <td>Clean Alternative Fuel Vehicle Eligible</td>\n",
       "      <td>291</td>\n",
       "      <td>0</td>\n",
       "      <td>37.0</td>\n",
       "      <td>125701579</td>\n",
       "      <td>CITY OF SEATTLE - (WA)|CITY OF TACOMA - (WA)</td>\n",
       "      <td>119926.0</td>\n",
       "      <td>6794340.0</td>\n",
       "    </tr>\n",
       "    <tr>\n",
       "      <th>1</th>\n",
       "      <td>5YJSA1E4XK</td>\n",
       "      <td>King</td>\n",
       "      <td>Seattle</td>\n",
       "      <td>WA</td>\n",
       "      <td>98109.0</td>\n",
       "      <td>2019</td>\n",
       "      <td>TESLA</td>\n",
       "      <td>MODEL S</td>\n",
       "      <td>Battery Electric Vehicle (BEV)</td>\n",
       "      <td>Clean Alternative Fuel Vehicle Eligible</td>\n",
       "      <td>270</td>\n",
       "      <td>0</td>\n",
       "      <td>36.0</td>\n",
       "      <td>156773144</td>\n",
       "      <td>CITY OF SEATTLE - (WA)|CITY OF TACOMA - (WA)</td>\n",
       "      <td>119926.0</td>\n",
       "      <td>6794340.0</td>\n",
       "    </tr>\n",
       "    <tr>\n",
       "      <th>2</th>\n",
       "      <td>5YJSA1E27G</td>\n",
       "      <td>King</td>\n",
       "      <td>Issaquah</td>\n",
       "      <td>WA</td>\n",
       "      <td>98027.0</td>\n",
       "      <td>2016</td>\n",
       "      <td>TESLA</td>\n",
       "      <td>MODEL S</td>\n",
       "      <td>Battery Electric Vehicle (BEV)</td>\n",
       "      <td>Clean Alternative Fuel Vehicle Eligible</td>\n",
       "      <td>210</td>\n",
       "      <td>0</td>\n",
       "      <td>5.0</td>\n",
       "      <td>165103011</td>\n",
       "      <td>PUGET SOUND ENERGY INC||CITY OF TACOMA - (WA)</td>\n",
       "      <td>119926.0</td>\n",
       "      <td>6794340.0</td>\n",
       "    </tr>\n",
       "    <tr>\n",
       "      <th>3</th>\n",
       "      <td>3FA6P0SU8H</td>\n",
       "      <td>Thurston</td>\n",
       "      <td>Yelm</td>\n",
       "      <td>WA</td>\n",
       "      <td>98597.0</td>\n",
       "      <td>2017</td>\n",
       "      <td>FORD</td>\n",
       "      <td>FUSION</td>\n",
       "      <td>Plug-in Hybrid Electric Vehicle (PHEV)</td>\n",
       "      <td>Not eligible due to low battery range</td>\n",
       "      <td>21</td>\n",
       "      <td>0</td>\n",
       "      <td>2.0</td>\n",
       "      <td>122057736</td>\n",
       "      <td>PUGET SOUND ENERGY INC</td>\n",
       "      <td>91522.0</td>\n",
       "      <td>766220.0</td>\n",
       "    </tr>\n",
       "    <tr>\n",
       "      <th>4</th>\n",
       "      <td>1N4AZ0CP2D</td>\n",
       "      <td>Yakima</td>\n",
       "      <td>Yakima</td>\n",
       "      <td>WA</td>\n",
       "      <td>98903.0</td>\n",
       "      <td>2013</td>\n",
       "      <td>NISSAN</td>\n",
       "      <td>LEAF</td>\n",
       "      <td>Battery Electric Vehicle (BEV)</td>\n",
       "      <td>Clean Alternative Fuel Vehicle Eligible</td>\n",
       "      <td>75</td>\n",
       "      <td>0</td>\n",
       "      <td>14.0</td>\n",
       "      <td>150126840</td>\n",
       "      <td>PACIFICORP</td>\n",
       "      <td>65167.0</td>\n",
       "      <td>694445.0</td>\n",
       "    </tr>\n",
       "  </tbody>\n",
       "</table>\n",
       "</div>"
      ],
      "text/plain": [
       "   VIN (1-10)    County      City State  Postal Code  Model Year    Make  \\\n",
       "0  5YJYGDEE1L      King   Seattle    WA      98122.0        2020   TESLA   \n",
       "1  5YJSA1E4XK      King   Seattle    WA      98109.0        2019   TESLA   \n",
       "2  5YJSA1E27G      King  Issaquah    WA      98027.0        2016   TESLA   \n",
       "3  3FA6P0SU8H  Thurston      Yelm    WA      98597.0        2017    FORD   \n",
       "4  1N4AZ0CP2D    Yakima    Yakima    WA      98903.0        2013  NISSAN   \n",
       "\n",
       "     Model                   Electric Vehicle Type  \\\n",
       "0  MODEL Y          Battery Electric Vehicle (BEV)   \n",
       "1  MODEL S          Battery Electric Vehicle (BEV)   \n",
       "2  MODEL S          Battery Electric Vehicle (BEV)   \n",
       "3   FUSION  Plug-in Hybrid Electric Vehicle (PHEV)   \n",
       "4     LEAF          Battery Electric Vehicle (BEV)   \n",
       "\n",
       "  Clean Alternative Fuel Vehicle (CAFV) Eligibility  Electric Range  \\\n",
       "0           Clean Alternative Fuel Vehicle Eligible             291   \n",
       "1           Clean Alternative Fuel Vehicle Eligible             270   \n",
       "2           Clean Alternative Fuel Vehicle Eligible             210   \n",
       "3             Not eligible due to low battery range              21   \n",
       "4           Clean Alternative Fuel Vehicle Eligible              75   \n",
       "\n",
       "   Base MSRP  Legislative District  DOL Vehicle ID  \\\n",
       "0          0                  37.0       125701579   \n",
       "1          0                  36.0       156773144   \n",
       "2          0                   5.0       165103011   \n",
       "3          0                   2.0       122057736   \n",
       "4          0                  14.0       150126840   \n",
       "\n",
       "                                Electric Utility  income_2023  population_2023  \n",
       "0   CITY OF SEATTLE - (WA)|CITY OF TACOMA - (WA)     119926.0        6794340.0  \n",
       "1   CITY OF SEATTLE - (WA)|CITY OF TACOMA - (WA)     119926.0        6794340.0  \n",
       "2  PUGET SOUND ENERGY INC||CITY OF TACOMA - (WA)     119926.0        6794340.0  \n",
       "3                         PUGET SOUND ENERGY INC      91522.0         766220.0  \n",
       "4                                     PACIFICORP      65167.0         694445.0  "
      ]
     },
     "execution_count": 2,
     "metadata": {},
     "output_type": "execute_result"
    }
   ],
   "source": [
    "df = pd.read_csv('Combined_Data.csv', encoding='ISO-8859-1')\n",
    "print(df.shape)\n",
    "df.head()"
   ]
  },
  {
   "cell_type": "code",
   "execution_count": 3,
   "id": "ea836e6d-3ade-416e-b59d-d4259be5646d",
   "metadata": {},
   "outputs": [
    {
     "data": {
      "text/html": [
       "<div>\n",
       "<style scoped>\n",
       "    .dataframe tbody tr th:only-of-type {\n",
       "        vertical-align: middle;\n",
       "    }\n",
       "\n",
       "    .dataframe tbody tr th {\n",
       "        vertical-align: top;\n",
       "    }\n",
       "\n",
       "    .dataframe thead th {\n",
       "        text-align: right;\n",
       "    }\n",
       "</style>\n",
       "<table border=\"1\" class=\"dataframe\">\n",
       "  <thead>\n",
       "    <tr style=\"text-align: right;\">\n",
       "      <th></th>\n",
       "      <th>County</th>\n",
       "      <th>Total EV Count</th>\n",
       "      <th>Average Electric Range</th>\n",
       "      <th>Average Model Year</th>\n",
       "      <th>Popular Brand</th>\n",
       "      <th>Popular Model</th>\n",
       "      <th>Popular EV Type</th>\n",
       "      <th>BEV Count</th>\n",
       "      <th>PHEV Count</th>\n",
       "      <th>Average Income</th>\n",
       "      <th>Population</th>\n",
       "      <th>BEV Proportion</th>\n",
       "    </tr>\n",
       "  </thead>\n",
       "  <tbody>\n",
       "    <tr>\n",
       "      <th>0</th>\n",
       "      <td>Adams</td>\n",
       "      <td>19</td>\n",
       "      <td>131.842105</td>\n",
       "      <td>2018.105263</td>\n",
       "      <td>TESLA</td>\n",
       "      <td>MODEL 3</td>\n",
       "      <td>Battery Electric Vehicle (BEV)</td>\n",
       "      <td>10.0</td>\n",
       "      <td>9.0</td>\n",
       "      <td>64498.0</td>\n",
       "      <td>54015.0</td>\n",
       "      <td>0.526316</td>\n",
       "    </tr>\n",
       "    <tr>\n",
       "      <th>1</th>\n",
       "      <td>Alameda</td>\n",
       "      <td>2</td>\n",
       "      <td>131.000000</td>\n",
       "      <td>2020.000000</td>\n",
       "      <td>TESLA</td>\n",
       "      <td>MODEL 3</td>\n",
       "      <td>Battery Electric Vehicle (BEV)</td>\n",
       "      <td>1.0</td>\n",
       "      <td>1.0</td>\n",
       "      <td>NaN</td>\n",
       "      <td>NaN</td>\n",
       "      <td>0.500000</td>\n",
       "    </tr>\n",
       "    <tr>\n",
       "      <th>2</th>\n",
       "      <td>Albemarle</td>\n",
       "      <td>2</td>\n",
       "      <td>211.500000</td>\n",
       "      <td>2016.000000</td>\n",
       "      <td>TESLA</td>\n",
       "      <td>MODEL 3</td>\n",
       "      <td>Battery Electric Vehicle (BEV)</td>\n",
       "      <td>2.0</td>\n",
       "      <td>0.0</td>\n",
       "      <td>NaN</td>\n",
       "      <td>NaN</td>\n",
       "      <td>1.000000</td>\n",
       "    </tr>\n",
       "    <tr>\n",
       "      <th>3</th>\n",
       "      <td>Alexandria</td>\n",
       "      <td>2</td>\n",
       "      <td>326.000000</td>\n",
       "      <td>2020.000000</td>\n",
       "      <td>TESLA</td>\n",
       "      <td>MODEL S</td>\n",
       "      <td>Battery Electric Vehicle (BEV)</td>\n",
       "      <td>2.0</td>\n",
       "      <td>0.0</td>\n",
       "      <td>NaN</td>\n",
       "      <td>NaN</td>\n",
       "      <td>1.000000</td>\n",
       "    </tr>\n",
       "    <tr>\n",
       "      <th>4</th>\n",
       "      <td>Allen</td>\n",
       "      <td>2</td>\n",
       "      <td>121.500000</td>\n",
       "      <td>2017.500000</td>\n",
       "      <td>CHRYSLER</td>\n",
       "      <td>PACIFICA</td>\n",
       "      <td>Plug-in Hybrid Electric Vehicle (PHEV)</td>\n",
       "      <td>1.0</td>\n",
       "      <td>1.0</td>\n",
       "      <td>NaN</td>\n",
       "      <td>NaN</td>\n",
       "      <td>0.500000</td>\n",
       "    </tr>\n",
       "  </tbody>\n",
       "</table>\n",
       "</div>"
      ],
      "text/plain": [
       "       County  Total EV Count  Average Electric Range  Average Model Year  \\\n",
       "0       Adams              19              131.842105         2018.105263   \n",
       "1     Alameda               2              131.000000         2020.000000   \n",
       "2   Albemarle               2              211.500000         2016.000000   \n",
       "3  Alexandria               2              326.000000         2020.000000   \n",
       "4       Allen               2              121.500000         2017.500000   \n",
       "\n",
       "  Popular Brand Popular Model                         Popular EV Type  \\\n",
       "0         TESLA       MODEL 3          Battery Electric Vehicle (BEV)   \n",
       "1         TESLA       MODEL 3          Battery Electric Vehicle (BEV)   \n",
       "2         TESLA       MODEL 3          Battery Electric Vehicle (BEV)   \n",
       "3         TESLA       MODEL S          Battery Electric Vehicle (BEV)   \n",
       "4      CHRYSLER      PACIFICA  Plug-in Hybrid Electric Vehicle (PHEV)   \n",
       "\n",
       "   BEV Count  PHEV Count  Average Income  Population  BEV Proportion  \n",
       "0       10.0         9.0         64498.0     54015.0        0.526316  \n",
       "1        1.0         1.0             NaN         NaN        0.500000  \n",
       "2        2.0         0.0             NaN         NaN        1.000000  \n",
       "3        2.0         0.0             NaN         NaN        1.000000  \n",
       "4        1.0         1.0             NaN         NaN        0.500000  "
      ]
     },
     "execution_count": 3,
     "metadata": {},
     "output_type": "execute_result"
    }
   ],
   "source": [
    "aggregated_df = duckdb.sql(\"\"\"\n",
    "    SELECT \n",
    "        County,\n",
    "        COUNT(*) AS \"Total EV Count\",  -- Total count of all EVs in the county\n",
    "        AVG(\"Electric Range\") AS \"Average Electric Range\", -- Average Electric Range in the county\n",
    "        AVG(\"Model Year\") AS \"Average Model Year\", -- Average EV Model Year in the county\n",
    "        MODE(\"Make\") AS \"Popular Brand\", -- Most popular EV Brand in the county\n",
    "        MODE(\"Model\") AS \"Popular Model\", -- Most popular EV model in the county\n",
    "        MODE(\"Electric Vehicle Type\") AS \"Popular EV Type\", -- Most popular EV type in the county (BEV or PHEV)\n",
    "        SUM(CASE WHEN \"Electric Vehicle Type\" = 'Battery Electric Vehicle (BEV)' THEN 1 ELSE 0 END) AS \"BEV Count\",  -- Count of BEVs\n",
    "        SUM(CASE WHEN \"Electric Vehicle Type\" = 'Plug-in Hybrid Electric Vehicle (PHEV)' THEN 1 ELSE 0 END) AS \"PHEV Count\",  -- Count of PHEVs\n",
    "        AVG(\"income_2023\") AS \"Average Income\",  -- Average income in the county\n",
    "        AVG(\"population_2023\") AS \"Population\",  -- Population in the county\n",
    "        -- Calculating BEV proportion directly within the query\n",
    "        SUM(CASE WHEN \"Electric Vehicle Type\" = 'Battery Electric Vehicle (BEV)' THEN 1 ELSE 0 END) * 1.0 / COUNT(*) AS \"BEV Proportion\"  -- Proportion of BEVs\n",
    "    FROM df\n",
    "    GROUP BY County\n",
    "    ORDER BY County ASC\n",
    "\"\"\").df()\n",
    "aggregated_df.head()"
   ]
  },
  {
   "cell_type": "markdown",
   "id": "47cb0d23-a63b-4f3e-96ef-f8731a1c2935",
   "metadata": {},
   "source": [
    "## Pre Registration Statements\n",
    "### Statement 1\n",
    "**Hypothesis:** Counties with a higher density of BEVs (Battery Electric Vehicles) relative to other types of EVs have higher total EV registrations.\n",
    "\n",
    "**Analysis:** We will calculate the proportion of BEVs among all EVs for each county. Then, we will perform a linear regression with the BEV proportion (for each county) as the input variable and the total EV registrations (for each county) as the output. The goal is to test whether the coefficient for BEV proportion indicates a meaningful link between BEV density and overall EV registrations within each county. We chose linear regression because it can detect direct correlations between BEV popularity and overall adoption trends. We will test whether BEV > 0. If it is significantly positive, then it indicates that the counties with higher BEV proportion tend to have more total EV registrations. Additionally, if a relationship exists, it could inform further investigation into socioeconomic or geographic factors that may affect EV adoption rates."
   ]
  },
  {
   "cell_type": "code",
   "execution_count": 4,
   "id": "222d55f2-c3a0-4e55-8392-3f6cce6888d5",
   "metadata": {},
   "outputs": [],
   "source": [
    "# Remove rows where BEV Proportion or Total EV Count is zero or null (to avoid issues in regression)\n",
    "ev_density_by_county = aggregated_df.dropna(subset=[\"BEV Proportion\", \"Total EV Count\"])\n",
    "ev_density_by_county = aggregated_df[aggregated_df[\"Total EV Count\"] > 0]\n",
    "\n",
    "# Define independent variable (BEV Proportion) and dependent variable (Total EV Count)\n",
    "X = ev_density_by_county[\"BEV Proportion\"]\n",
    "y = ev_density_by_county[\"Total EV Count\"]\n",
    "\n",
    "# Add a constant to the independent variable for the intercept term in the regression model\n",
    "X = sm.add_constant(X)"
   ]
  },
  {
   "cell_type": "code",
   "execution_count": 5,
   "id": "857e8992-394b-4b30-a494-f77486222ffb",
   "metadata": {},
   "outputs": [
    {
     "data": {
      "image/png": "[encoded data removed]",
      "text/plain": [
       "<Figure size 640x480 with 1 Axes>"
      ]
     },
     "metadata": {},
     "output_type": "display_data"
    }
   ],
   "source": [
    "sns.regplot(x=\"BEV Proportion\", y=\"Total EV Count\", data=ev_density_by_county, \n",
    "            scatter_kws={'color': 'blue'}, line_kws={'color': 'red'}, \n",
    "            ci=None)  \n",
    "plt.xlabel(\"BEV Proportion\")\n",
    "plt.ylabel(\"Total EV Count\")\n",
    "plt.title(\"Regression of BEV Proportion vs Total EV Count\")\n",
    "\n",
    "plt.show()"
   ]
  },
  {
   "cell_type": "markdown",
   "id": "4b180175-9943-4496-9ad0-af7cebd66eea",
   "metadata": {},
   "source": [
    "#### Null and Alternative Hypotheses\n",
    "Null Hypothesis ($H_0$): The coefficient of BEV Proportion is equal to 0.\n",
    "This implies that there is no significant relationship between the proportion of Battery Electric Vehicles (BEVs) in a county and the total number of EV registrations.\n",
    "\n",
    "Alternative Hypothesis ($H_A$): The coefficient of BEV Proportion is not equal to 0.\n",
    "This implies that there is a significant relationship between the proportion of BEVs in a county and the total number of EV registrations.\n",
    "\n",
    "\n"
   ]
  },
  {
   "cell_type": "code",
   "execution_count": 6,
   "id": "7c3948a0-a1c0-4d22-b265-918b1eca876d",
   "metadata": {},
   "outputs": [
    {
     "name": "stdout",
     "output_type": "stream",
     "text": [
      "                            OLS Regression Results                            \n",
      "==============================================================================\n",
      "Dep. Variable:         Total EV Count   R-squared:                       0.002\n",
      "Model:                            OLS   Adj. R-squared:                 -0.005\n",
      "Method:                 Least Squares   F-statistic:                    0.2311\n",
      "Date:                Wed, 20 Nov 2024   Prob (F-statistic):              0.631\n",
      "Time:                        22:46:07   Log-Likelihood:                -1407.0\n",
      "No. Observations:                 148   AIC:                             2818.\n",
      "Df Residuals:                     146   BIC:                             2824.\n",
      "Df Model:                           1                                         \n",
      "Covariance Type:            nonrobust                                         \n",
      "==================================================================================\n",
      "                     coef    std err          t      P>|t|      [0.025      0.975]\n",
      "----------------------------------------------------------------------------------\n",
      "const            351.3509    443.989      0.791      0.430    -526.125    1228.827\n",
      "BEV Proportion   329.3773    685.150      0.481      0.631   -1024.716    1683.471\n",
      "==============================================================================\n",
      "Omnibus:                      300.474   Durbin-Watson:                   2.051\n",
      "Prob(Omnibus):                  0.000   Jarque-Bera (JB):            87061.260\n",
      "Skew:                          10.508   Prob(JB):                         0.00\n",
      "Kurtosis:                     119.946   Cond. No.                         3.31\n",
      "==============================================================================\n",
      "\n",
      "Notes:\n",
      "[1] Standard Errors assume that the covariance matrix of the errors is correctly specified.\n"
     ]
    }
   ],
   "source": [
    "# Perform the linear regression\n",
    "model = sm.OLS(y, X).fit()\n",
    "print(model.summary())"
   ]
  },
  {
   "cell_type": "markdown",
   "id": "1584c740-1fca-407f-b55f-ecfc3ab26977",
   "metadata": {},
   "source": [
    "### Interpretation\n",
    "The R-squared is 0.002, meaning that only 0.2% of the variation in Total EV Count is explained by the BEV Proportion. This indicates a very poor model fit, suggesting that BEV Proportion alone is not a good predictor of Total EV Count\n",
    "\n",
    "P-value: 0.430: The intercept is not statistically significant because it is much greater than the common significance threshold (0.05), meaning we cannot reject the null hypothesis. There is no strong evidence to suggest that the BEV Proportion is significantly associated with Total EV Count.\n",
    "\n",
    "The 95% confidence interval for the BEV Proportion coefficient is [-1024.716, 1683.471]. This wide interval indicates high uncertainty about the true effect of BEV proportion, and the interval includes 0, further supporting the lack of statistical significance."
   ]
  },
  {
   "cell_type": "markdown",
   "id": "e691c5de-fe72-4838-8665-caea68780aa5",
   "metadata": {},
   "source": [
    "## Pre Registration Statements\n",
    "### Statement 2\n",
    "**Hypothesis:** Counties with higher median incomes are correlated with a greater number of registered electric vehicles.\n",
    "\n",
    "**Analysis:** We will combine EV registration by county and the median income by county from the median income dataset. Where each row represents a different county, we run a linear regression for median income in 2023 as input and the number of registered electric vehicles as output. Because the coefficient can contain signs to indicate a positive or negative relationship between the two variables, we will test whether income  0. If it is significantly positive, then it indicates that high-income countries tend to have more EVs. We will also evaluate the R-squared value to understand how much of the variation in EV registrations is explained by median income and other factors included in the model."
   ]
  },
  {
   "cell_type": "code",
   "execution_count": 7,
   "id": "f1941e7f-6a30-4844-b0f8-ea9392bf6091",
   "metadata": {},
   "outputs": [
    {
     "data": {
      "text/html": [
       "<div>\n",
       "<style scoped>\n",
       "    .dataframe tbody tr th:only-of-type {\n",
       "        vertical-align: middle;\n",
       "    }\n",
       "\n",
       "    .dataframe tbody tr th {\n",
       "        vertical-align: top;\n",
       "    }\n",
       "\n",
       "    .dataframe thead th {\n",
       "        text-align: right;\n",
       "    }\n",
       "</style>\n",
       "<table border=\"1\" class=\"dataframe\">\n",
       "  <thead>\n",
       "    <tr style=\"text-align: right;\">\n",
       "      <th></th>\n",
       "      <th>County</th>\n",
       "      <th>Total EV Count</th>\n",
       "      <th>Average Electric Range</th>\n",
       "      <th>Average Model Year</th>\n",
       "      <th>Popular Brand</th>\n",
       "      <th>Popular Model</th>\n",
       "      <th>Popular EV Type</th>\n",
       "      <th>BEV Count</th>\n",
       "      <th>PHEV Count</th>\n",
       "      <th>Average Income</th>\n",
       "      <th>Population</th>\n",
       "      <th>BEV Proportion</th>\n",
       "      <th>EVs per 1000</th>\n",
       "    </tr>\n",
       "  </thead>\n",
       "  <tbody>\n",
       "    <tr>\n",
       "      <th>0</th>\n",
       "      <td>Adams</td>\n",
       "      <td>19</td>\n",
       "      <td>131.842105</td>\n",
       "      <td>2018.105263</td>\n",
       "      <td>TESLA</td>\n",
       "      <td>MODEL 3</td>\n",
       "      <td>Battery Electric Vehicle (BEV)</td>\n",
       "      <td>10.0</td>\n",
       "      <td>9.0</td>\n",
       "      <td>64498.0</td>\n",
       "      <td>54015.0</td>\n",
       "      <td>0.526316</td>\n",
       "      <td>0.351754</td>\n",
       "    </tr>\n",
       "    <tr>\n",
       "      <th>7</th>\n",
       "      <td>Asotin</td>\n",
       "      <td>41</td>\n",
       "      <td>89.414634</td>\n",
       "      <td>2018.975610</td>\n",
       "      <td>TOYOTA</td>\n",
       "      <td>WRANGLER</td>\n",
       "      <td>Plug-in Hybrid Electric Vehicle (PHEV)</td>\n",
       "      <td>17.0</td>\n",
       "      <td>24.0</td>\n",
       "      <td>67820.0</td>\n",
       "      <td>53745.0</td>\n",
       "      <td>0.414634</td>\n",
       "      <td>0.762862</td>\n",
       "    </tr>\n",
       "    <tr>\n",
       "      <th>10</th>\n",
       "      <td>Benton</td>\n",
       "      <td>1120</td>\n",
       "      <td>125.328571</td>\n",
       "      <td>2018.716964</td>\n",
       "      <td>TESLA</td>\n",
       "      <td>MODEL 3</td>\n",
       "      <td>Battery Electric Vehicle (BEV)</td>\n",
       "      <td>576.0</td>\n",
       "      <td>544.0</td>\n",
       "      <td>87992.0</td>\n",
       "      <td>608885.0</td>\n",
       "      <td>0.514286</td>\n",
       "      <td>1.839428</td>\n",
       "    </tr>\n",
       "    <tr>\n",
       "      <th>21</th>\n",
       "      <td>Chelan</td>\n",
       "      <td>510</td>\n",
       "      <td>142.231373</td>\n",
       "      <td>2018.533333</td>\n",
       "      <td>TESLA</td>\n",
       "      <td>LEAF</td>\n",
       "      <td>Battery Electric Vehicle (BEV)</td>\n",
       "      <td>330.0</td>\n",
       "      <td>180.0</td>\n",
       "      <td>84430.0</td>\n",
       "      <td>210625.0</td>\n",
       "      <td>0.647059</td>\n",
       "      <td>2.421365</td>\n",
       "    </tr>\n",
       "    <tr>\n",
       "      <th>23</th>\n",
       "      <td>Clallam</td>\n",
       "      <td>573</td>\n",
       "      <td>110.722513</td>\n",
       "      <td>2018.186736</td>\n",
       "      <td>CHEVROLET</td>\n",
       "      <td>LEAF</td>\n",
       "      <td>Battery Electric Vehicle (BEV)</td>\n",
       "      <td>299.0</td>\n",
       "      <td>274.0</td>\n",
       "      <td>68924.0</td>\n",
       "      <td>188135.0</td>\n",
       "      <td>0.521815</td>\n",
       "      <td>3.045685</td>\n",
       "    </tr>\n",
       "  </tbody>\n",
       "</table>\n",
       "</div>"
      ],
      "text/plain": [
       "     County  Total EV Count  Average Electric Range  Average Model Year  \\\n",
       "0     Adams              19              131.842105         2018.105263   \n",
       "7    Asotin              41               89.414634         2018.975610   \n",
       "10   Benton            1120              125.328571         2018.716964   \n",
       "21   Chelan             510              142.231373         2018.533333   \n",
       "23  Clallam             573              110.722513         2018.186736   \n",
       "\n",
       "   Popular Brand Popular Model                         Popular EV Type  \\\n",
       "0          TESLA       MODEL 3          Battery Electric Vehicle (BEV)   \n",
       "7         TOYOTA      WRANGLER  Plug-in Hybrid Electric Vehicle (PHEV)   \n",
       "10         TESLA       MODEL 3          Battery Electric Vehicle (BEV)   \n",
       "21         TESLA          LEAF          Battery Electric Vehicle (BEV)   \n",
       "23     CHEVROLET          LEAF          Battery Electric Vehicle (BEV)   \n",
       "\n",
       "    BEV Count  PHEV Count  Average Income  Population  BEV Proportion  \\\n",
       "0        10.0         9.0         64498.0     54015.0        0.526316   \n",
       "7        17.0        24.0         67820.0     53745.0        0.414634   \n",
       "10      576.0       544.0         87992.0    608885.0        0.514286   \n",
       "21      330.0       180.0         84430.0    210625.0        0.647059   \n",
       "23      299.0       274.0         68924.0    188135.0        0.521815   \n",
       "\n",
       "    EVs per 1000  \n",
       "0       0.351754  \n",
       "7       0.762862  \n",
       "10      1.839428  \n",
       "21      2.421365  \n",
       "23      3.045685  "
      ]
     },
     "execution_count": 7,
     "metadata": {},
     "output_type": "execute_result"
    }
   ],
   "source": [
    "# Filter for non-null data\n",
    "filtered_df = aggregated_df.dropna(subset=[\"Average Income\", \"Population\"]).copy()\n",
    "filtered_df[\"EVs per 1000\"] = (filtered_df[\"Total EV Count\"] / filtered_df[\"Population\"]) * 1000\n",
    "filtered_df.head()"
   ]
  },
  {
   "cell_type": "code",
   "execution_count": 8,
   "id": "c3db6350-905f-404e-afdd-897fbd4634cf",
   "metadata": {},
   "outputs": [
    {
     "data": {
      "text/plain": [
       "Text(0.5, 1.0, 'Average Income vs. Total EV Count for Counties')"
      ]
     },
     "execution_count": 8,
     "metadata": {},
     "output_type": "execute_result"
    },
    {
     "data": {
      "image/png": "[encoded data removed]",
      "text/plain": [
       "<Figure size 640x480 with 1 Axes>"
      ]
     },
     "metadata": {},
     "output_type": "display_data"
    }
   ],
   "source": [
    "sns.scatterplot(x='Average Income', y = 'Total EV Count', data = filtered_df)\n",
    "plt.title('Average Income vs. Total EV Count for Counties')"
   ]
  },
  {
   "cell_type": "code",
   "execution_count": 9,
   "id": "d0f3d9bc-cab8-4ca2-8414-b7999c568bcf",
   "metadata": {},
   "outputs": [
    {
     "name": "stdout",
     "output_type": "stream",
     "text": [
      "R-squared: 0.45\n",
      "Coefficient for Median Income: 0.30\n",
      "Intercept: -20691.03\n"
     ]
    }
   ],
   "source": [
    "# Linear regression\n",
    "X = filtered_df[\"Average Income\"].values.reshape(-1,1)\n",
    "y = filtered_df[\"Total EV Count\"].values\n",
    "\n",
    "model = LinearRegression()\n",
    "model.fit(X, y)\n",
    "\n",
    "# Make predictions\n",
    "y_pred = model.predict(X)\n",
    "\n",
    "r2 = r2_score(y, y_pred)\n",
    "print(f\"R-squared: {r2:.2f}\")\n",
    "\n",
    "print(f\"Coefficient for Median Income: {model.coef_[0]:.2f}\")\n",
    "print(f\"Intercept: {model.intercept_:.2f}\")"
   ]
  },
  {
   "cell_type": "code",
   "execution_count": 10,
   "id": "f80ef736-4a9c-4247-929f-ade2b5c55da8",
   "metadata": {},
   "outputs": [
    {
     "data": {
      "image/png": "[encoded data removed]",
      "text/plain": [
       "<Figure size 1000x600 with 1 Axes>"
      ]
     },
     "metadata": {},
     "output_type": "display_data"
    }
   ],
   "source": [
    "# Plot the regression\n",
    "plt.figure(figsize=(10, 6))\n",
    "sns.regplot(x=filtered_df[\"Average Income\"], y=filtered_df[\"Total EV Count\"], line_kws={\"color\": \"red\"})\n",
    "plt.title(\"Linear Regression of EV Count vs Median Income\")\n",
    "plt.xlabel(\"Average Income (2023)\")\n",
    "plt.ylabel(\"EV Count\")\n",
    "plt.show()"
   ]
  },
  {
   "cell_type": "markdown",
   "id": "a36f0085-81d5-4fa8-aab1-2b2ce0d1eb28",
   "metadata": {},
   "source": [
    "#### Null and Alternative Hypotheses\n",
    "Null Hypothesis ($H_0$): The coefficient of Average Income is equal to 0.\n",
    "This implies that there is no significant relationship between the median income of a county and the number of registered EVs.\n",
    "\n",
    "Alternative Hypothesis ($H_A$): The coefficient of Average Income is not equal to 0.\n",
    "This implies that there is a significant relationship between the median income of a county and the number of registered EVs.\n"
   ]
  },
  {
   "cell_type": "code",
   "execution_count": 11,
   "id": "87d6fc44-8aa0-4d4e-a63f-cbeeda1eaa1a",
   "metadata": {},
   "outputs": [
    {
     "name": "stdout",
     "output_type": "stream",
     "text": [
      "                            OLS Regression Results                            \n",
      "==============================================================================\n",
      "Dep. Variable:                      y   R-squared:                       0.447\n",
      "Model:                            OLS   Adj. R-squared:                  0.432\n",
      "Method:                 Least Squares   F-statistic:                     29.94\n",
      "Date:                Wed, 20 Nov 2024   Prob (F-statistic):           3.26e-06\n",
      "Time:                        22:46:07   Log-Likelihood:                -383.80\n",
      "No. Observations:                  39   AIC:                             771.6\n",
      "Df Residuals:                      37   BIC:                             774.9\n",
      "Df Model:                           1                                         \n",
      "Covariance Type:            nonrobust                                         \n",
      "==============================================================================\n",
      "                 coef    std err          t      P>|t|      [0.025      0.975]\n",
      "------------------------------------------------------------------------------\n",
      "const      -2.069e+04   4208.483     -4.917      0.000   -2.92e+04   -1.22e+04\n",
      "x1             0.2965      0.054      5.472      0.000       0.187       0.406\n",
      "==============================================================================\n",
      "Omnibus:                       56.382   Durbin-Watson:                   2.211\n",
      "Prob(Omnibus):                  0.000   Jarque-Bera (JB):              423.033\n",
      "Skew:                           3.281   Prob(JB):                     1.38e-92\n",
      "Kurtosis:                      17.740   Cond. No.                     4.37e+05\n",
      "==============================================================================\n",
      "\n",
      "Notes:\n",
      "[1] Standard Errors assume that the covariance matrix of the errors is correctly specified.\n",
      "[2] The condition number is large, 4.37e+05. This might indicate that there are\n",
      "strong multicollinearity or other numerical problems.\n"
     ]
    }
   ],
   "source": [
    "X_with_const = sm.add_constant(X)  \n",
    "ols_model = sm.OLS(y, X_with_const).fit()\n",
    "print(ols_model.summary())"
   ]
  },
  {
   "cell_type": "markdown",
   "id": "fc289a3b-b9b9-4dbb-b3eb-5ac5a6c22fc8",
   "metadata": {},
   "source": [
    "### Interpretation\n",
    "R-squared value (0.45):\n",
    "Approximately 45% of the variation in EV registrations across counties is explained by median income. This indicates that median income is a moderately strong predictor of EV registrations.\n",
    "\n",
    "The 95% confidence interval for the Average Income coefficient is [0.187, 0.406]. This interval does not include 0, which confirms the statistical significance of the result.\n",
    "\n",
    "P-value for Average Income (<0.001):\n",
    "The p-value is less than the commonly used significance threshold (e.g., 0.05). This allows us to reject the null hypothesis. There is strong evidence to suggest a statistically significant relationship between median income and total EV count.\n",
    "\n"
   ]
  },
  {
   "cell_type": "code",
   "execution_count": 12,
   "id": "7868cb82-c9cd-41ca-b246-335cabd7265d",
   "metadata": {},
   "outputs": [
    {
     "name": "stdout",
     "output_type": "stream",
     "text": [
      "R-squared: 0.55\n",
      "Coefficient for Median Income: 0.00\n",
      "Intercept: -2.82\n"
     ]
    }
   ],
   "source": [
    "filtered_df[\"Log EV Count\"] = np.log(filtered_df[\"Total EV Count\"])\n",
    "X = filtered_df[[\"Average Income\"]]\n",
    "y = filtered_df[\"Log EV Count\"]\n",
    "\n",
    "model = LinearRegression()\n",
    "model.fit(X, y)\n",
    "\n",
    "# Make predictions\n",
    "y_pred = model.predict(X)\n",
    "\n",
    "r2 = r2_score(y, y_pred)\n",
    "print(f\"R-squared: {r2:.2f}\")\n",
    "\n",
    "print(f\"Coefficient for Median Income: {model.coef_[0]:.2f}\")\n",
    "print(f\"Intercept: {model.intercept_:.2f}\")"
   ]
  },
  {
   "cell_type": "code",
   "execution_count": 13,
   "id": "58f3a576-621d-47b1-87bf-65af5574ba02",
   "metadata": {},
   "outputs": [
    {
     "ename": "SyntaxError",
     "evalue": "invalid non-printable character U+2028 (4082536388.py, line 7)",
     "output_type": "error",
     "traceback": [
      "\u001b[0;36m  Cell \u001b[0;32mIn[13], line 7\u001b[0;36m\u001b[0m\n\u001b[0;31m    plt.show()\u001b[0m\n\u001b[0m              ^\u001b[0m\n\u001b[0;31mSyntaxError\u001b[0m\u001b[0;31m:\u001b[0m invalid non-printable character U+2028\n"
     ]
    }
   ],
   "source": [
    "# Plot the regression\n",
    "plt.figure(figsize=(10, 6))\n",
    "sns.regplot(x=filtered_df[\"Average Income\"], y=filtered_df[\"Log EV Count\"], line_kws={\"color\": \"red\"})\n",
    "plt.title(\"Linear Regression of Log EV Count vs Median Income\")\n",
    "plt.xlabel(\"Average Income (2023)\")\n",
    "plt.ylabel(\"Log EV Count\")\n",
    "plt.show() "
   ]
  },
  {
   "cell_type": "code",
   "execution_count": null,
   "id": "ccb005d7-ce34-4f0e-81e3-f5ffd9736b9b",
   "metadata": {},
   "outputs": [],
   "source": [
    "residuals = y - y_pred\n",
    "plt.figure(figsize=(10, 6))\n",
    "plt.scatter(y_pred, residuals)\n",
    "plt.axhline(y=0, color='r', linestyle='--')\n",
    "plt.xlabel('Predicted Values')\n",
    "plt.ylabel('Residuals')\n",
    "plt.title('Residuals vs Predicted Values for Average Income vs Log EV Count') \n",
    "plt.show()"
   ]
  },
  {
   "cell_type": "markdown",
   "id": "913f5a5a-c3b4-4145-bd6f-bda6141b6f5c",
   "metadata": {},
   "source": [
    "## Multivariate Regression\n",
    "Can we better predict the total number of EV registrations in a county using multiple predictors, including BEV Proportion, Average Model Year, and Average Electric Range?\n",
    "(based on feedback from TA)"
   ]
  },
  {
   "cell_type": "markdown",
   "id": "591ce570-9aab-4efe-b8d7-4125ea85d938",
   "metadata": {},
   "source": [
    "### Overall Model Hypothesis\n",
    "\n",
    "Null Hypothesis ($H_0$): The model with predictors (BEV Proportion, Average Model Year, Average Electric Range) does not significantly explain variation in the total EV registrations. \n",
    "\n",
    "Alternative Hypothesis ($H_A$): The model with predictors (BEV Proportion, Average Model Year, Average Electric Range) significantly explains variation in the total EV registrations."
   ]
  },
  {
   "cell_type": "code",
   "execution_count": null,
   "id": "944a38cb-e8b3-4624-9a52-01b1f11d8861",
   "metadata": {},
   "outputs": [],
   "source": [
    "# Define the predictors (independent variables)\n",
    "X = aggregated_df[[\"BEV Proportion\", \"Average Model Year\", \"Average Electric Range\"]]\n",
    "\n",
    "# Add a constant to the model (intercept term)\n",
    "X = sm.add_constant(X)\n",
    "\n",
    "# Define the target (dependent variable)\n",
    "y = aggregated_df[\"Total EV Count\"]\n",
    "\n",
    "# Fit the multivariate regression model\n",
    "model = sm.OLS(y, X).fit()\n",
    "\n",
    "print(model.summary())"
   ]
  },
  {
   "cell_type": "markdown",
   "id": "40535a3d-e657-4ff6-bc96-44811e4fec41",
   "metadata": {},
   "source": [
    "### Interpretation\n",
    "R-squared value = 0.142:\n",
    "Approximately 14.2% of the variation in total EV registrations is explained by the predictors in the model. While this indicates some predictive power, the model has room for improvement, suggesting additional factors may contribute to EV registration trends.\n",
    "The 95% confidence interval for the Average Income coefficient is [0.187, 0.406]. This interval does not include 0, which confirms the statistical significance of the result.\n",
    "\n",
    "P-value for Average Income (<0.001):\n",
    "The p-value is less than the commonly used significance threshold (e.g., 0.05). This allows us to reject the null hypothesis. There is strong evidence to suggest a statistically significant relationship between median income and total EV count.\n",
    "\n"
   ]
  },
  {
   "cell_type": "code",
   "execution_count": null,
   "id": "c6bdf7ec-34a1-43e1-86da-6f471095a07f",
   "metadata": {},
   "outputs": [],
   "source": [
    "# Generate the predictions (fitted values)\n",
    "aggregated_df['Predicted EV Count'] = model.predict(X)\n",
    "\n",
    "# Plot the actual vs predicted EV count\n",
    "plt.figure(figsize=(8, 6))\n",
    "sns.scatterplot(x=aggregated_df['Total EV Count'], y=aggregated_df['Predicted EV Count'], color='blue', alpha=0.6)\n",
    "plt.plot([aggregated_df['Total EV Count'].min(), aggregated_df['Total EV Count'].max()],\n",
    "         [aggregated_df['Total EV Count'].min(), aggregated_df['Total EV Count'].max()],\n",
    "         color='red', linestyle='--')  # Line of perfect prediction\n",
    "plt.title('Actual vs Predicted Total EV Count')\n",
    "plt.xlabel('Actual Total EV Count')\n",
    "plt.ylabel('Predicted Total EV Count')\n",
    "plt.show()\n",
    "\n",
    "# Residuals Plot\n",
    "aggregated_df['Residuals'] = aggregated_df['Total EV Count'] - aggregated_df['Predicted EV Count']\n",
    "plt.figure(figsize=(8, 6))\n",
    "sns.scatterplot(x=aggregated_df['Predicted EV Count'], y=aggregated_df['Residuals'], color='green', alpha=0.6)\n",
    "plt.axhline(0, color='red', linestyle='--')\n",
    "plt.title('Residuals Plot')\n",
    "plt.xlabel('Predicted Total EV Count')\n",
    "plt.ylabel('Residuals')\n",
    "plt.show()"
   ]
  },
  {
   "cell_type": "markdown",
   "id": "9dfe032c-f09b-4fda-8191-b9b880a545f6",
   "metadata": {},
   "source": [
    "## Summary of Results\n",
    "The regression analysis for Pre-Registration 1 suggests that there is no significant relationship between the proportion of BEVs and the total EV registrations in a county. The p-value for the BEV Proportion coefficient (0.631) is too large to reject the null hypothesis, and the very low R-squared value indicates that BEV Proportion explains almost none of the variation in Total EV Count. This suggests that other factors, such as socioeconomic or geographic variables, may play a more substantial role in explaining EV registration trends."
   ]
  },
  {
   "cell_type": "markdown",
   "id": "d1a6ac4c-421b-4a36-b64b-c7a477be6601",
   "metadata": {},
   "source": [
    "The regression analysis for Pre-Registration 2 demonstrates a significant positive relationship between median income and EV registrations. Counties with higher median incomes tend to register more EVs. The R-squared value indicates that median income accounts for a substantial proportion of the variation in EV registrations, although other factors likely contribute as well. This finding supports the hypothesis and suggests that income is an important factor influencing EV adoption trends."
   ]
  },
  {
   "cell_type": "code",
   "execution_count": null,
   "id": "978df776-83e3-41b2-92af-8c15f4cc31a4",
   "metadata": {},
   "outputs": [],
   "source": []
  }
 ],
 "metadata": {
  "kernelspec": {
   "display_name": "Python 3 (ipykernel)",
   "language": "python",
   "name": "python3"
  },
  "language_info": {
   "codemirror_mode": {
    "name": "ipython",
    "version": 3
   },
   "file_extension": ".py",
   "mimetype": "text/x-python",
   "name": "python",
   "nbconvert_exporter": "python",
   "pygments_lexer": "ipython3",
   "version": "3.12.2"
  }
 },
 "nbformat": 4,
 "nbformat_minor": 5
}
